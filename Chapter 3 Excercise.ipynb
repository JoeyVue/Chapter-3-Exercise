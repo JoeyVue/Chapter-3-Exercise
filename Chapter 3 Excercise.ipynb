{
 "cells": [
  {
   "cell_type": "code",
   "execution_count": 4,
   "id": "a1bb45b4",
   "metadata": {},
   "outputs": [],
   "source": [
    "# Chapter 3 exercise\n",
    "### Algorithm Workbench 4, 5\n",
    "### Programming exercises 1, 5"
   ]
  },
  {
   "cell_type": "code",
   "execution_count": 20,
   "id": "efc590d5",
   "metadata": {},
   "outputs": [
    {
     "ename": "IndentationError",
     "evalue": "expected an indented block after 'if' statement on line 3 (339493948.py, line 4)",
     "output_type": "error",
     "traceback": [
      "\u001b[1;36m  Cell \u001b[1;32mIn[20], line 4\u001b[1;36m\u001b[0m\n\u001b[1;33m    print('Your grade is A.')\u001b[0m\n\u001b[1;37m    ^\u001b[0m\n\u001b[1;31mIndentationError\u001b[0m\u001b[1;31m:\u001b[0m expected an indented block after 'if' statement on line 3\n"
     ]
    }
   ],
   "source": [
    "## Q4\n",
    "\n",
    "if score >= A_score: \n",
    "print('Your grade is A.') \n",
    "else: \n",
    "    if score >= B_score: \n",
    "    print('Your grade is B.') \n",
    "    else: \n",
    "        if score >= C_score: \n",
    "        print('Your grade is C.') \n",
    "        else: \n",
    "            if score >= D_score: \n",
    "            print('Your grade is D.') \n",
    "            else: \n",
    "            print('Your grade is F.')"
   ]
  },
  {
   "cell_type": "code",
   "execution_count": null,
   "id": "5744307c",
   "metadata": {},
   "outputs": [],
   "source": [
    "### I align each \"if\" inputs with the next \"else\" outputs."
   ]
  },
  {
   "cell_type": "code",
   "execution_count": 19,
   "id": "14263e07",
   "metadata": {},
   "outputs": [
    {
     "name": "stdout",
     "output_type": "stream",
     "text": [
      "enter amount:35\n",
      "enter amount:22\n",
      "is greater: 35.0\n"
     ]
    }
   ],
   "source": [
    "## Q5\n",
    "\n",
    "amount1 = float(input(\"enter amount:\"))\n",
    "amount2 = float(input(\"enter amount:\"))\n",
    "if amount1 > 10:\n",
    "    if amount2 < 100:\n",
    "        if amount1 > amount2:\n",
    "            print(\"is greater:\", amount1)\n",
    "        else: print(\"is greater:\", amount2)\n",
    "    else: print(\"amount2 must be lower than 100:\")\n",
    "else: print(\"amount1 must be above 10:\")"
   ]
  },
  {
   "cell_type": "code",
   "execution_count": null,
   "id": "81c0279b",
   "metadata": {},
   "outputs": [],
   "source": [
    "### I used float inputs so the user may type in the given amount.\n",
    "### Then I used \"if\" commands for the greater than and less than values for amount1 and amount2.\n",
    "### I then used else to name the greater value."
   ]
  },
  {
   "cell_type": "code",
   "execution_count": 36,
   "id": "c9225167",
   "metadata": {},
   "outputs": [
    {
     "name": "stdout",
     "output_type": "stream",
     "text": [
      "pick a number between 1-7:8\n",
      "Error: numbers must be be between 1-7\n"
     ]
    }
   ],
   "source": [
    "## programming exercises Q1\n",
    "Weekday = input(\"pick a number between 1-7:\")\n",
    "Weekday = int(Weekday)\n",
    "if 1<= Weekday <= 7:\n",
    "    if Weekday == 1:\n",
    "        print (\"Monday\")\n",
    "    elif Weekday == 2:\n",
    "        print (\"Tuesday\")\n",
    "    elif Weekday == 3:\n",
    "        print (\"Wednesday\")\n",
    "    elif Weekday == 4:\n",
    "        print (\"Thursday\")\n",
    "    elif Weekday == 5:\n",
    "        print (\"Friday\")\n",
    "    elif Weekday == 6:\n",
    "        print (\"Saterday\")\n",
    "    elif Weekday == 7:\n",
    "        print (\"Sunday\")\n",
    "else: print (\"Error: numbers must be be between 1-7.\")"
   ]
  },
  {
   "cell_type": "code",
   "execution_count": null,
   "id": "f988b7e0",
   "metadata": {},
   "outputs": [],
   "source": [
    "### I used the input command on\"weekday\" to allow the selection between the numbers 1-7.\n",
    "### I used \"Int\" so that \"Weekday will have a vaule.\"\n",
    "### Then I used the \"if\" function to calculate the Weekday input\n",
    "### Then used \"elif\" so any day of the date equal to their given vaule will appear as well as the error."
   ]
  },
  {
   "cell_type": "code",
   "execution_count": 50,
   "id": "ac53da36",
   "metadata": {},
   "outputs": [
    {
     "name": "stdout",
     "output_type": "stream",
     "text": [
      "kg mass:4\n",
      "object is too light\n"
     ]
    }
   ],
   "source": [
    "## programming exercises Q5\n",
    "\n",
    "mass = float(input(\"kg mass:\"))\n",
    "weight = mass * 9.8\n",
    "if weight > 500:\n",
    "    print(\"object is too heavy.\")\n",
    "elif weight < 100:\n",
    "    print(\"object is too light\")\n",
    "else: print(\"object has perfect mass\")"
   ]
  },
  {
   "cell_type": "code",
   "execution_count": null,
   "id": "5e365a08",
   "metadata": {},
   "outputs": [],
   "source": [
    "### I used float to be able to type in the mass, then entered to formula of the weight.\n",
    "### Then I entered \"if\" and \"elif\" to measure the weight of the given object."
   ]
  },
  {
   "cell_type": "code",
   "execution_count": 64,
   "id": "6f1fbf6a",
   "metadata": {},
   "outputs": [
    {
     "name": "stdout",
     "output_type": "stream",
     "text": [
      "Year:2022\n",
      "in 2022 February has 28 days.\n"
     ]
    }
   ],
   "source": [
    "## programming exercises Q15\n",
    "\n",
    "year = int(input(\"Year:\"))\n",
    "leap_year = False\n",
    "\n",
    "if year % 100 == 0:\n",
    "    if year % 400 == 0:\n",
    "        leap_year = True\n",
    "else:\n",
    "    if year % 4 == 0:\n",
    "        leap_year = True\n",
    "if leap_year: days_on_february = 29\n",
    "else: days_on_february = 28\n",
    "if leap_year: print(f\"in {year} February has {days_on_february} days.\")\n",
    "else: print(f\"in {year} February has {days_on_february} days.\")"
   ]
  },
  {
   "cell_type": "code",
   "execution_count": null,
   "id": "0adf33f9",
   "metadata": {},
   "outputs": [],
   "source": [
    "## I made year into the input vaule.\n",
    "## I then left leap_year on false so that the leap year can be set to true.\n",
    "## Once the Year is set on to true, then it will the according set of days for february."
   ]
  },
  {
   "cell_type": "code",
   "execution_count": 74,
   "id": "8f689c4e",
   "metadata": {},
   "outputs": [
    {
     "name": "stdout",
     "output_type": "stream",
     "text": [
      "is anyone in your party vegetarian? kkkkk\n",
      "is anyone in your party vegan? dyjfj\n",
      "is anyone in your party gluten free? ctj\n",
      "Here are your restaurant choices:\n",
      "Joe's Gourmet Burgers\n",
      "Main Street Pizza Company\n",
      "Mama's Fine Italian\n",
      "Coner Cafe\n",
      "The Chef's kitchen\n"
     ]
    }
   ],
   "source": [
    "## programming exercises Q17 \n",
    "\n",
    "vegetarian = input(\"is anyone in your party vegetarian? \")\n",
    "vegan = input(\"is anyone in your party vegan? \")\n",
    "gluten_free = input(\"is anyone in your party gluten free? \")\n",
    "print(\"Here are your restaurant choices:\")\n",
    "\n",
    "if vegetarian == \"yes\":\n",
    "    if vegan == \"yes\":\n",
    "        if gluten_free == \"yes\":\n",
    "            print (\"Coner Cafe\")\n",
    "            print (\"The Chef's kitchen\")\n",
    "        else:\n",
    "            print (\"Coner Cafe\")\n",
    "            print (\"The Chef's kitchen\")\n",
    "    else:\n",
    "        if gluten_free == \"yes\":\n",
    "            print (\"Main Street Pizza Company\")\n",
    "            print (\"Coner Cafe\")\n",
    "            print (\"The Chef's kitchen\")\n",
    "        else:\n",
    "            print (\"Main Street Pizza Company\")\n",
    "            print (\"Mama's Fine Italian\")\n",
    "            print (\"Coner Cafe\")\n",
    "            print (\"The Chef's kitchen\")\n",
    "else:\n",
    "    if vegan == \"yes\":\n",
    "        if gluten_free == \"yes\":\n",
    "            print (\"Coner Cafe\")\n",
    "            print (\"The Chef's kitchen\")\n",
    "        else:\n",
    "            print (\"Coner Cafe\")\n",
    "            print (\"The Chef's kitchen\")\n",
    "    else:\n",
    "        if gluten_free == \"yes\":\n",
    "            print (\"Main Street Pizza Company\")\n",
    "            print (\"Coner Cafe\")\n",
    "            print (\"The Chef's kitchen\")\n",
    "        else:\n",
    "            print (\"Joe's Gourmet Burgers\")\n",
    "            print (\"Main Street Pizza Company\")\n",
    "            print (\"Mama's Fine Italian\")\n",
    "            print (\"Coner Cafe\")\n",
    "            print (\"The Chef's kitchen\")"
   ]
  },
  {
   "cell_type": "code",
   "execution_count": 73,
   "id": "ae829a02",
   "metadata": {},
   "outputs": [],
   "source": [
    "### I given vegetarian, vegan and gluten free an input.\n",
    "### I then set up each of their given outputs according if the input is \"yes\""
   ]
  },
  {
   "cell_type": "code",
   "execution_count": null,
   "id": "6bbd1d2c",
   "metadata": {},
   "outputs": [],
   "source": []
  }
 ],
 "metadata": {
  "language_info": {
   "codemirror_mode": {
    "name": "ipython",
    "version": 3
   },
   "file_extension": ".py",
   "mimetype": "text/x-python",
   "name": "python",
   "nbconvert_exporter": "python",
   "pygments_lexer": "ipython3",
   "version": "3.11.4"
  }
 },
 "nbformat": 4,
 "nbformat_minor": 5
}
